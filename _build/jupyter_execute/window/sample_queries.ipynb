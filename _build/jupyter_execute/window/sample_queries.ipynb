{
 "cells": [
  {
   "cell_type": "markdown",
   "id": "c4ecefcd",
   "metadata": {},
   "source": [
    "# Sample Queries for Window Functions\n",
    "Demo queries for using Window Functions in SQL databases.\n",
    "\n",
    "## Obtain the Data\n",
    "You *should* have permissions to use these queries as-is under my GCP project. However, you can copy the data to your own project by [following the instructions provided here](../gcp/bq_dataset_copy.md).\n",
    "\n",
    "# Basic Aggregation Window Function"
   ]
  },
  {
   "cell_type": "code",
   "execution_count": 1,
   "id": "4f8f3145",
   "metadata": {
    "vscode": {
     "languageId": "plaintext"
    }
   },
   "outputs": [
    {
     "ename": "SyntaxError",
     "evalue": "invalid syntax (1738978643.py, line 1)",
     "output_type": "error",
     "traceback": [
      "\u001b[0;36m  Cell \u001b[0;32mIn[1], line 1\u001b[0;36m\u001b[0m\n\u001b[0;31m    -- Find the average sales price for the entire table\u001b[0m\n\u001b[0m            ^\u001b[0m\n\u001b[0;31mSyntaxError\u001b[0m\u001b[0;31m:\u001b[0m invalid syntax\n"
     ]
    }
   ],
   "source": [
    "-- Find the average sales price for the entire table\n",
    "SELECT \n",
    "    *, \n",
    "    AVG(sale_price) OVER () AS avg_sale\n",
    "FROM \n",
    "    `elliott-purdue-development.class_demos.home_sales`;\n"
   ]
  },
  {
   "cell_type": "code",
   "execution_count": null,
   "id": "376c317f",
   "metadata": {
    "vscode": {
     "languageId": "plaintext"
    }
   },
   "outputs": [],
   "source": [
    "-- Find the average sales price for EACH STATE in the entire table\n",
    "SELECT \n",
    "    *, \n",
    "    AVG(sale_price) OVER (PARTITION BY state) AS avg_sale_state\n",
    "FROM \n",
    "    `elliott-purdue-development.class_demos.home_sales`;\n"
   ]
  }
 ],
 "metadata": {
  "language_info": {
   "codemirror_mode": {
    "name": "ipython",
    "version": 3
   },
   "file_extension": ".py",
   "mimetype": "text/x-python",
   "name": "python",
   "nbconvert_exporter": "python",
   "pygments_lexer": "ipython3",
   "version": "3.11.10"
  }
 },
 "nbformat": 4,
 "nbformat_minor": 5
}