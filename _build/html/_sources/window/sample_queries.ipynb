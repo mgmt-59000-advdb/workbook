{
 "cells": [
  {
   "cell_type": "markdown",
   "id": "c4ecefcd",
   "metadata": {},
   "source": [
    "# Sample Queries for Window Functions\n",
    "Demo queries for using Window Functions in SQL databases.\n",
    "\n",
    "## Obtain the Data\n",
    "You *should* have permissions to use these queries as-is under my GCP project. However, you can copy the data to your own project by [following the instructions provided here](../gcp/bq_dataset_copy.md).\n",
    "\n",
    "# Basic Aggregation Window Function"
   ]
  },
  {
   "cell_type": "code",
   "execution_count": null,
   "id": "4f8f3145",
   "metadata": {
    "vscode": {
     "languageId": "plaintext"
    }
   },
   "outputs": [],
   "source": [
    "-- Find the average sales price for the entire table\n",
    "SELECT \n",
    "    *, \n",
    "    AVG(sale_price) OVER () AS avg_sale\n",
    "FROM \n",
    "    `elliott-purdue-development.class_demos.home_sales`;\n"
   ]
  },
  {
   "cell_type": "code",
   "execution_count": null,
   "id": "376c317f",
   "metadata": {
    "vscode": {
     "languageId": "plaintext"
    }
   },
   "outputs": [],
   "source": [
    "-- Find the average sales price for EACH STATE in the entire table\n",
    "SELECT \n",
    "    *, \n",
    "    AVG(sale_price) OVER (PARTITION BY state) AS avg_sale_state\n",
    "FROM \n",
    "    `elliott-purdue-development.class_demos.home_sales`;\n"
   ]
  }
 ],
 "metadata": {
  "language_info": {
   "name": "python"
  }
 },
 "nbformat": 4,
 "nbformat_minor": 5
}
